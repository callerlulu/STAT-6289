{
  "nbformat": 4,
  "nbformat_minor": 0,
  "metadata": {
    "colab": {
      "name": "Mengfei Liu midterm project 6289.ipynb",
      "provenance": []
    },
    "kernelspec": {
      "name": "python3",
      "display_name": "Python 3"
    }
  },
  "cells": [
    {
      "cell_type": "markdown",
      "metadata": {
        "id": "b4YRg5aJo-bk"
      },
      "source": [
        "#Loading the dataset"
      ]
    },
    {
      "cell_type": "code",
      "metadata": {
        "id": "q6oRHfq2sR3B"
      },
      "source": [
        "#Loading the dataset\n",
        "from keras.models import Sequential\n",
        "from keras.layers import convolution20\n",
        "from keras.layers import MaxPooling20\n",
        "from keras.layers import Flatten\n",
        "from keras.layers import Dense"
      ],
      "execution_count": null,
      "outputs": []
    },
    {
      "cell_type": "markdown",
      "metadata": {
        "id": "T2pfCZ-Qox_e"
      },
      "source": [
        "#Convolutional neural network"
      ]
    },
    {
      "cell_type": "code",
      "metadata": {
        "id": "iQ8fSlyMoAqm"
      },
      "source": [
        "#Convolutional neural network\n",
        "#Initialize the CNN\n",
        "classifier = Sequential()"
      ],
      "execution_count": null,
      "outputs": []
    },
    {
      "cell_type": "code",
      "metadata": {
        "id": "_kvGyho2oFFn"
      },
      "source": [
        "#Step 1 - Convolution \n",
        "classifier.add(Convolution2D(32,3,3,input_shape = (64,64,3), activation = 'relu'))"
      ],
      "execution_count": null,
      "outputs": []
    },
    {
      "cell_type": "code",
      "metadata": {
        "id": "mfJTl7NKoH5H"
      },
      "source": [
        "#Step 2 - Pooling\n",
        "classifier.add(MaxPooling2D(pool_size = (2,2)))"
      ],
      "execution_count": null,
      "outputs": []
    },
    {
      "cell_type": "code",
      "metadata": {
        "id": "YucdnQLHiFvo"
      },
      "source": [
        "#Step 3 - Flattening\n",
        "classifier.add(Flatten())"
      ],
      "execution_count": null,
      "outputs": []
    },
    {
      "cell_type": "code",
      "metadata": {
        "id": "uNOqC-z8oKko"
      },
      "source": [
        "#Step 4 - Full Connection\n",
        "classifier.add(Dense(output_dim = 128,activation = 'relu'))\n",
        "classifier.add(Dense(output_dim = 1,activation = 'sigmoid'))"
      ],
      "execution_count": null,
      "outputs": []
    },
    {
      "cell_type": "code",
      "metadata": {
        "id": "Ek0KHKQuoNHQ"
      },
      "source": [
        "#Compiling the CNN\n",
        "classifier.complie(optimizer = 'adam',loss = 'binary_crossentropy', metrics = ['accuracy'])"
      ],
      "execution_count": null,
      "outputs": []
    },
    {
      "cell_type": "markdown",
      "metadata": {
        "id": "h7K1ZZ8zpMsO"
      },
      "source": [
        "#Data Augumentation"
      ]
    },
    {
      "cell_type": "code",
      "metadata": {
        "id": "xHPL1IV9oPv-"
      },
      "source": [
        "#Data Augumentation\n",
        "\n",
        "#Fitting the CNN to the images\n",
        "from keras.preprocessing.image import ImageDataGenerator\n",
        "\n",
        "train_datagen = ImageDataGenerator(\n",
        "    rescale = 1./255,\n",
        "    shear_range=0.2,\n",
        "    zoom_range=0.2,\n",
        "    horizontal_flip=True)\n",
        "\n",
        "test_datagen = ImageDataGenerator(rescale=1./255)\n",
        "\n",
        "training_set = train_datagen.flow_from_directory(\n",
        "    'dataset/training_set',\n",
        "    target_size(64,64),\n",
        "    batch_size=32,\n",
        "    class_mode='binary')\n",
        "\n",
        "test_set = test_datagen.flow_from_directory(\n",
        "    dataset/training_set',\n",
        "    target_size(64,64),\n",
        "    batch_size=32,\n",
        "    class_mode='binary')'\n",
        ")"
      ],
      "execution_count": null,
      "outputs": []
    },
    {
      "cell_type": "markdown",
      "metadata": {
        "id": "s68R3F6QpZrb"
      },
      "source": [
        "#Training the Network"
      ]
    },
    {
      "cell_type": "code",
      "metadata": {
        "id": "VevDKCekoUd1"
      },
      "source": [
        "#Training the Network\n",
        "\n",
        "from IPython.display import display\n",
        "from PIL import Image\n",
        "\n",
        "classifier.fit_generator(\n",
        "    training_set,\n",
        "    steps_per_epoch=8000,\n",
        "    epochs=10,\n",
        "    validation_data=test_set,\n",
        "    validation_steps=800)"
      ],
      "execution_count": null,
      "outputs": []
    },
    {
      "cell_type": "markdown",
      "metadata": {
        "id": "deB8XtKhpeDK"
      },
      "source": [
        "#Use model to make prediction"
      ]
    },
    {
      "cell_type": "code",
      "metadata": {
        "id": "qeHwlld5pG3i"
      },
      "source": [
        "#Use model to make prediction\n",
        "\n",
        "import numpy as np\n",
        "from keras.preprocessing import image\n",
        "test_image = image.load_img('random.jpg',target_size = (64,64))\n",
        "test_image = image.img_to_array(test_image)\n",
        "test_image = np.expand_dims(test_images, axis = 0)\n",
        "result = classifier.predict(test_image)\n",
        "training_set.class_indices\n",
        "if result[0][0] >= 0.5 :\n",
        "  prediction = 'dog'\n",
        "else\n",
        "  prediction = 'cat'\n",
        "print(prediction)"
      ],
      "execution_count": null,
      "outputs": []
    }
  ]
}